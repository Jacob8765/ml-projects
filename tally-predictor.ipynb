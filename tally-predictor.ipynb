{
 "cells": [
  {
   "cell_type": "code",
   "execution_count": 24,
   "metadata": {},
   "outputs": [],
   "source": [
    "%matplotlib inline\n",
    "\n",
    "import numpy as np\n",
    "import matplotlib.pyplot as plt\n",
    "from skimage.io import imread\n",
    "import os"
   ]
  },
  {
   "cell_type": "code",
   "execution_count": 25,
   "metadata": {},
   "outputs": [],
   "source": [
    "data = {\"images\": [], \"labels\": [], \"filenames\": []}\n",
    "dataset_path = os.path.join(os.getcwd(), \"datasets/tally_marks\")\n",
    "\n",
    "for subdir in os.listdir(dataset_path):\n",
    "    current_path = os.path.join(dataset_path, subdir)\n",
    "    for file in os.listdir(current_path):\n",
    "        if file[-3:] == \"jpg\":\n",
    "            image_data = imread(os.path.join(current_path, file))\n",
    "            data[\"images\"].append(image_data)\n",
    "            data[\"labels\"].append(subdir)\n",
    "            data[\"filenames\"].append(file)"
   ]
  },
  {
   "cell_type": "code",
   "execution_count": 31,
   "metadata": {},
   "outputs": [
    {
     "name": "stdout",
     "output_type": "stream",
     "text": [
      "31904\n",
      "31904\n",
      "(24, 30)\n"
     ]
    },
    {
     "data": {
      "text/plain": [
       "<matplotlib.image.AxesImage at 0x7f9a7db48e10>"
      ]
     },
     "execution_count": 31,
     "metadata": {},
     "output_type": "execute_result"
    },
    {
     "data": {
      "image/png": "[encoded data removed]",
      "text/plain": [
       "<Figure size 432x288 with 1 Axes>"
      ]
     },
     "metadata": {
      "needs_background": "light"
     },
     "output_type": "display_data"
    }
   ],
   "source": [
    "print(len(data[\"images\"]))\n",
    "print(len(data[\"labels\"]))\n",
    "print(data[\"images\"][0].shape) #each image should be 24x30\n",
    "plt.imshow(data[\"images\"][17543], cmap=\"gray\") #display an example image"
   ]
  },
  {
   "cell_type": "code",
   "execution_count": 45,
   "metadata": {},
   "outputs": [],
   "source": [
    "X = np.array(data[\"images\"])\n",
    "y = np.array(data[\"labels\"])"
   ]
  },
  {
   "cell_type": "code",
   "execution_count": 49,
   "metadata": {},
   "outputs": [],
   "source": [
    "from sklearn.model_selection import train_test_split\n",
    "\n",
    "X_train, X_test, y_train, y_test = train_test_split(X, y, test_size=0.2, shuffle=True, random_state=42)"
   ]
  },
  {
   "cell_type": "code",
   "execution_count": 48,
   "metadata": {},
   "outputs": [
    {
     "name": "stdout",
     "output_type": "stream",
     "text": [
      "[  0   0   0   0   0   0   0   0   0   0   0   0   0   3   0   0   0   3\n",
      "   0   0   1   0   0   2   0   0   0   0   0   0   0   0   0   0   0   0\n",
      "   0   0   0   0   4   0   3 190 254 255 189   0   1   0   3   1   2   0\n",
      "   0   0   0   0   0   0   0   0   0   0   0   0   0   0   0   0   1   1\n",
      " 200 243 255 251 193   1   0   2   0   0   0   3   0   0   0   0   0   0\n",
      "   0   0   0   0   0   0   0   0   0   1   0   0 255 253 255 255 233 167\n",
      "   1   1   0   0   4   0   0   0   0   0   0   0   0   0   0   0   0   0\n",
      "   0   0   1   0   3   0 255 255 251 254 254 255   0   1   0   1   0   0\n",
      "   0   0   0   0   0   0   0   0   0   0   0   0   0   0   0   0   0   0\n",
      " 255 253 255 255 255 251   2   0   1   4   0   2   0   0   0   0   0   0\n",
      "   0   0   0   0   0   0   0   0   2   0   2   1 255 254 253 255 255 255\n",
      "   0   0   0   0   3   0   0   0   0   0   0   0   0   0   0   0   0   0\n",
      "   0   0   0   3   0   1 254 255 255 254 254 255   0   1   0   2   0   0\n",
      "   0   0   0   0   0   0   0   0   0   0   0   0   0   0   0   0   0   0\n",
      " 255 255 255 255 255 255   0   1   0   0   0   0   0   0   0   0   0   0\n",
      "   0   0   0   0   0   0   0   0   0   0   0   0 255 255 255 255 255 255\n",
      "   0   1   0   0   0   0   0   0   0   0   0   0   0   0   0   0   0   0\n",
      "   0   0   0   0   0   0 255 255 255 255 255 255   0   1   0   0   0   0\n",
      "   0   0   0   0   0   0   0   0   0   0   0   0   0   0   0   0   0   0\n",
      " 255 255 255 255 255 255   0   1   0   0   0   0   0   0   0   0   0   0\n",
      "   0   0   0   0   0   0   0   0   0   0   0   0 255 255 255 255 255 255\n",
      "   0   1   0   0   0   0   0   0   0   0   0   0   0   0   0   0   0   0\n",
      "   0   0   0   0   0   0 255 255 255 255 255 255   0   1   0   0   0   0\n",
      "   0   0   0   0   0   0   0   0   0   0   0   0   0   0   0   0   0   0\n",
      " 255 255 255 255 255 255   0   1   0   0   0   0   0   0   0   0   0   0\n",
      "   0   0   0   0   0   0   0   0   0   0   0   0 255 255 255 255 255 255\n",
      "   0   1   0   0   0   0   0   0   0   0   0   0   0   0   0   0   0   0\n",
      "   0   0   1   0   0   3 254 255 252 255 255 251   0   1   0   0   1   1\n",
      "   0   0   0   0   0   0   0   0   0   0   0   0   0   0   1   0   1   0\n",
      " 255 255 254 255 251 255   1   0   5   3   0   1   0   0   0   0   0   0\n",
      "   0   0   0   0   0   0   0   0   1   2   1   5 252 255 255 252 255 255\n",
      "   0   1   0   0   0   0   0   0   0   0   0   0   0   0   0   0   0   0\n",
      "   0   0   0   3   0   0 255 253 255 255 255 253   2   0   0   1   1   2\n",
      "   0   0   0   0   0   0   0   0   0   0   0   0   0   0   2   2   0   2\n",
      " 169 235 252 255 254 255   2   0   2   0   3   0   0   0   0   0   0   0\n",
      "   0   0   0   0   0   0   0   0   0   0   1   0   0 192 255 255 242 202\n",
      "   0   2   0   0   0   4   0   0   0   0   0   0   0   0   0   0   0   0\n",
      "   0   0   2   0   0   3   3 189 255 252 193   0   0   0   2   1   1   0\n",
      "   0   0   0   0   0   0   0   0   0   0   0   0   0   0   0   0   0   0\n",
      "   0   0   0   2   0   0   0   0   0   0   0   2   0   0   0   0   0   0]\n",
      "720\n",
      "720\n"
     ]
    }
   ],
   "source": [
    "#test using np.reshape to flatten the array\n",
    "X_transformed = X.reshape(len(X), len(X[0])*len(X[0][0]))\n",
    "#print(X_transformed[0])\n",
    "print(len(X_transformed[0])) #should be 720 (24*30)\n"
   ]
  },
  {
   "cell_type": "code",
   "execution_count": 53,
   "metadata": {},
   "outputs": [],
   "source": [
    "#create custom pipeline to flatten the arrays...\n",
    "from sklearn.base import BaseEstimator, TransformerMixin\n",
    "\n",
    "class FlattenImage(BaseEstimator, TransformerMixin):\n",
    "    def __init__(self):\n",
    "        pass\n",
    "    \n",
    "    def fit(self, X, y=None):\n",
    "        return self\n",
    "    \n",
    "    def transform(self, X, y=None):\n",
    "        return X.reshape(len(X), 24*30) #len(X[0])*len(X[0][0])"
   ]
  },
  {
   "cell_type": "code",
   "execution_count": 69,
   "metadata": {},
   "outputs": [
    {
     "data": {
      "text/plain": [
       "Pipeline(steps=[('flatten', FlattenImage()), ('scaler', StandardScaler()),\n",
       "                ('svm', SVC(C=1))])"
      ]
     },
     "execution_count": 69,
     "metadata": {},
     "output_type": "execute_result"
    }
   ],
   "source": [
    "from sklearn.pipeline import Pipeline\n",
    "from sklearn.svm import SVC\n",
    "from sklearn.preprocessing import StandardScaler\n",
    "\n",
    "svm_clf = Pipeline([\n",
    "    (\"flatten\", FlattenImage()),\n",
    "    (\"scaler\", StandardScaler()),\n",
    "    (\"svm\", SVC(C=1, kernel=\"rbf\", gamma=\"scale\"))\n",
    "])\n",
    "\n",
    "svm_clf.fit(X_train, y_train)\n"
   ]
  },
  {
   "cell_type": "code",
   "execution_count": 70,
   "metadata": {},
   "outputs": [],
   "source": [
    "from sklearn.model_selection import cross_val_predict\n",
    "\n",
    "y_train_pred = cross_val_predict(svm_clf, X_train, y_train, cv=3)"
   ]
  },
  {
   "cell_type": "code",
   "execution_count": 71,
   "metadata": {},
   "outputs": [
    {
     "data": {
      "text/plain": [
       "array([[4959,   35,    0,    0,    1],\n",
       "       [  52, 4749,   23,    5,    8],\n",
       "       [   0,   72, 4484,   36,   53],\n",
       "       [   0,    4,   91, 4167,  191],\n",
       "       [   0,   11,   60,   82, 6440]])"
      ]
     },
     "execution_count": 71,
     "metadata": {},
     "output_type": "execute_result"
    }
   ],
   "source": [
    "from sklearn.metrics import confusion_matrix\n",
    "\n",
    "confusion_matrix(y_train, y_train_pred)"
   ]
  },
  {
   "cell_type": "code",
   "execution_count": 75,
   "metadata": {},
   "outputs": [
    {
     "data": {
      "text/plain": [
       "array([0.97132111, 0.9722614 , 0.97131774])"
      ]
     },
     "execution_count": 75,
     "metadata": {},
     "output_type": "execute_result"
    }
   ],
   "source": [
    "from sklearn.model_selection import cross_val_score\n",
    "cross_val_score(svm_clf, X_train, y_train, cv=3, scoring=\"accuracy\") #compute the accuracy of the binary classifier on three folds from the training set"
   ]
  },
  {
   "cell_type": "code",
   "execution_count": 76,
   "metadata": {},
   "outputs": [
    {
     "data": {
      "text/plain": [
       "0.9752389907538004"
      ]
     },
     "execution_count": 76,
     "metadata": {},
     "output_type": "execute_result"
    }
   ],
   "source": [
    "svm_clf.score(X_test, y_test)"
   ]
  },
  {
   "cell_type": "code",
   "execution_count": 77,
   "metadata": {},
   "outputs": [
    {
     "data": {
      "text/plain": [
       "array([[1240,    5,    0,    0,    0],\n",
       "       [   8, 1191,    4,    2,    2],\n",
       "       [   0,   17, 1111,   11,   12],\n",
       "       [   0,    0,   26, 1077,   40],\n",
       "       [   0,    4,   12,   15, 1604]])"
      ]
     },
     "execution_count": 77,
     "metadata": {},
     "output_type": "execute_result"
    }
   ],
   "source": [
    "y_test_hat = svm_clf.predict(X_test)\n",
    "confusion_matrix(y_test, y_test_hat)"
   ]
  },
  {
   "cell_type": "code",
   "execution_count": 95,
   "metadata": {},
   "outputs": [
    {
     "name": "stdout",
     "output_type": "stream",
     "text": [
      "Preicteded this image was 2 but it's actually 5\n"
     ]
    },
    {
     "data": {
      "text/plain": [
       "<matplotlib.image.AxesImage at 0x7f9a11c3b6d0>"
      ]
     },
     "execution_count": 95,
     "metadata": {},
     "output_type": "execute_result"
    },
    {
     "data": {
      "image/png": "[encoded data removed]",
      "text/plain": [
       "<Figure size 432x288 with 1 Axes>"
      ]
     },
     "metadata": {
      "needs_background": "light"
     },
     "output_type": "display_data"
    }
   ],
   "source": [
    "#get an image of an instance where the model failed \n",
    "incorrect_classifications = []\n",
    "for i in range(len(y_test)):\n",
    "    if y_test_hat[i] != y_test[i]:\n",
    "        incorrect_classifications.append(i)\n",
    "\n",
    "index = 42\n",
    "print(\"Preicteded this image was\", y_test_hat[incorrect_classifications[index]], \"but it's actually\", y_test[incorrect_classifications[index]])\n",
    "plt.imshow(X_test[incorrect_classifications[index]], cmap=\"gray\")"
   ]
  }
 ],
 "metadata": {
  "interpreter": {
   "hash": "9d170d3c3ebd85e2305fa5e30547a9498cb998b55d65a8aae6cf231adb02b634"
  },
  "kernelspec": {
   "display_name": "Python 3.7.5 64-bit ('env': venv)",
   "language": "python",
   "name": "python3"
  },
  "language_info": {
   "codemirror_mode": {
    "name": "ipython",
    "version": 3
   },
   "file_extension": ".py",
   "mimetype": "text/x-python",
   "name": "python",
   "nbconvert_exporter": "python",
   "pygments_lexer": "ipython3",
   "version": "3.7.5"
  },
  "orig_nbformat": 4
 },
 "nbformat": 4,
 "nbformat_minor": 2
}
